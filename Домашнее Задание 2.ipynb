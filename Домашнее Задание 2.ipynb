{
 "cells": [
  {
   "cell_type": "code",
   "execution_count": 3,
   "metadata": {},
   "outputs": [],
   "source": [
    "from scipy.optimize import linear_sum_assignment\n",
    "import numpy as np\n",
    "import itertools\n",
    "import networkx as nx\n",
    "import pandas as pd\n",
    "import functools\n",
    "import sys\n",
    "import cvxpy as cp"
   ]
  },
  {
   "cell_type": "markdown",
   "metadata": {},
   "source": [
    "# Считывание графа\n",
    "Т.к. используется nx.Graph, то мультиребер возникнуть не может"
   ]
  },
  {
   "cell_type": "code",
   "execution_count": 4,
   "metadata": {},
   "outputs": [],
   "source": [
    "data = pd.read_excel('globalterrorismdb_0718dist.xlsx')"
   ]
  },
  {
   "cell_type": "code",
   "execution_count": 5,
   "metadata": {},
   "outputs": [],
   "source": [
    "def fill_graph(graph, year):\n",
    "    for row in data.itertuples():\n",
    "        if row.iyear == year:\n",
    "            graph.add_node(row.eventid)\n",
    "            \n",
    "    for row in data.itertuples():\n",
    "        if row.iyear == year:\n",
    "            if pd.notna(row.related):\n",
    "                for rel in row.related.split(','):\n",
    "                    rel_int = int(rel)\n",
    "                    if rel_int in graph:\n",
    "                        graph.add_edge(row.eventid, rel_int)"
   ]
  },
  {
   "cell_type": "code",
   "execution_count": 6,
   "metadata": {},
   "outputs": [],
   "source": [
    "G_2001 = nx.Graph()\n",
    "G_2004 = nx.Graph()\n",
    "\n",
    "fill_graph(G_2001, 2001)\n",
    "fill_graph(G_2004, 2004)\n",
    "\n",
    "G_2001.remove_edges_from(G_2001.selfloop_edges())\n",
    "G_2004.remove_edges_from(G_2004.selfloop_edges())\n",
    "\n",
    "\n",
    "G_2001.remove_nodes_from(list(nx.isolates(G_2001)))\n",
    "G_2004.remove_nodes_from(list(nx.isolates(G_2004)))"
   ]
  },
  {
   "cell_type": "markdown",
   "metadata": {},
   "source": [
    "# Graph Edit Distance\n",
    "Воспользуемся сведением задачи подсчета Graph Edit Distance к Linear Sum Assignment Problem, ссылка на статью https://bougleux.users.greyc.fr/articles/ssspr14-approxged.pdf"
   ]
  },
  {
   "cell_type": "code",
   "execution_count": 28,
   "metadata": {},
   "outputs": [],
   "source": [
    "class NodeGraph():\n",
    "    def __init__(self, nodes):\n",
    "        self._nodes = nodes\n",
    "        \n",
    "    def nodes(self):\n",
    "        return self._nodes\n",
    "    \n",
    "    def __len__(self):\n",
    "        return len(self._nodes)\n",
    "\n",
    "def distance(G_1, G_2, substitution_f=lambda meta_x, x, meta_y, y : 0):\n",
    "    n, m = len(G_1), len(G_2)\n",
    "    C = np.zeros((n + m, n + m))\n",
    "    nodes1 = list(G_1.nodes())\n",
    "    nodes2 = list(G_2.nodes())\n",
    "\n",
    "    for i, j in itertools.product(range(n), range(m)):\n",
    "        C[i, j] = substitution_f(G_1, nodes1[i], G_2, nodes2[j])\n",
    "\n",
    "    for i, j in itertools.product(range(m), range(m)):\n",
    "        C[n + i, j] = (1 if i == j else sys.maxsize)\n",
    "\n",
    "    for i, j in itertools.product(range(n), range(n)):\n",
    "        C[j, m + i] = (1 if i == j else sys.maxsize)\n",
    "    \n",
    "    i_s, j_s = linear_sum_assignment(C)\n",
    "    return sum(C[i][j] for i, j in zip(i_s, j_s))\n",
    "\n",
    "def graph_substitution_f(G_1, node_1, G_2, node_2):\n",
    "    edges_1, edges_2 = list(G_1.edges(node_1)), list(G_2.edges(node_2))\n",
    "\n",
    "    if len(edges_1) == 0 or len(edges_2) == 0:\n",
    "        return max(len(edges_1), len(edges_2))\n",
    "    \n",
    "    return distance(NodeGraph(edges_1), NodeGraph(edges_2))\n",
    "    \n",
    "def graph_edit_distance(G_1, G_2):\n",
    "    return distance(G_1, G_2, graph_substitution_f)"
   ]
  },
  {
   "cell_type": "markdown",
   "metadata": {},
   "source": [
    "Проверяем:"
   ]
  },
  {
   "cell_type": "code",
   "execution_count": 29,
   "metadata": {},
   "outputs": [
    {
     "data": {
      "text/plain": [
       "0.0"
      ]
     },
     "execution_count": 29,
     "metadata": {},
     "output_type": "execute_result"
    }
   ],
   "source": [
    "graph_edit_distance(G_2004, G_2004)"
   ]
  },
  {
   "cell_type": "code",
   "execution_count": 30,
   "metadata": {},
   "outputs": [
    {
     "data": {
      "text/plain": [
       "124.0"
      ]
     },
     "execution_count": 30,
     "metadata": {},
     "output_type": "execute_result"
    }
   ],
   "source": [
    "graph_edit_distance(G_2001, G_2004)"
   ]
  },
  {
   "cell_type": "markdown",
   "metadata": {},
   "source": [
    "Достаточно ничего не говорящее число, чтобы оно было немного понятнее, поделим на суммарные размеры графов(тогда разница между пустым и каким-то графом будет 1, а между одинаковыми - 0)"
   ]
  },
  {
   "cell_type": "code",
   "execution_count": 9,
   "metadata": {},
   "outputs": [],
   "source": [
    "def normed_ged(G_1, G_2):\n",
    "    s = G_1.number_of_nodes() + G_2.number_of_nodes()\n",
    "    return graph_edit_distance(G_1, G_2) / s if s else 0"
   ]
  },
  {
   "cell_type": "code",
   "execution_count": 10,
   "metadata": {},
   "outputs": [
    {
     "data": {
      "text/plain": [
       "1.0"
      ]
     },
     "execution_count": 10,
     "metadata": {},
     "output_type": "execute_result"
    }
   ],
   "source": [
    "normed_ged(G_2001, nx.Graph())"
   ]
  },
  {
   "cell_type": "code",
   "execution_count": 11,
   "metadata": {},
   "outputs": [
    {
     "data": {
      "text/plain": [
       "0.29314420803782504"
      ]
     },
     "execution_count": 11,
     "metadata": {},
     "output_type": "execute_result"
    }
   ],
   "source": [
    "normed_ged(G_2001, G_2004)"
   ]
  },
  {
   "cell_type": "markdown",
   "metadata": {},
   "source": [
    "Я считаю, что это расстояние очень полезно, в отличие от сравнений для двух графов метрик из следующих заданий."
   ]
  },
  {
   "cell_type": "markdown",
   "metadata": {},
   "source": [
    "# Диаметр\n",
    "Возмем максимальное конечное число в матрице дистанций после выполнения алгоритма Флойда-Уоршелла "
   ]
  },
  {
   "cell_type": "code",
   "execution_count": 21,
   "metadata": {},
   "outputs": [],
   "source": [
    "def f_w(G):\n",
    "    dists = nx.convert_matrix.to_numpy_array(G)\n",
    "    dists[dists == 0] = np.nan\n",
    "    np.fill_diagonal(dists, 0)\n",
    "    n = dists.shape[0]\n",
    "    for k in range(n):\n",
    "        for i in range(n):\n",
    "            for j in range(n):\n",
    "                if not (np.isnan(dists[i][k]) or np.isnan(dists[k][j])):\n",
    "                    dists[i][j] = min(dists[i][j], dists[i][k] + dists[k][j])\n",
    "    return dists"
   ]
  },
  {
   "cell_type": "code",
   "execution_count": 22,
   "metadata": {},
   "outputs": [],
   "source": [
    "G_2001_dists = f_w(G_2001)\n",
    "G_2004_dists = f_w(G_2004)"
   ]
  },
  {
   "cell_type": "code",
   "execution_count": 23,
   "metadata": {},
   "outputs": [
    {
     "data": {
      "text/plain": [
       "array([[ 0.,  1., nan, ..., nan, nan, nan],\n",
       "       [ 1.,  0., nan, ..., nan, nan, nan],\n",
       "       [nan, nan,  0., ..., nan, nan, nan],\n",
       "       ...,\n",
       "       [nan, nan, nan, ...,  0.,  1.,  1.],\n",
       "       [nan, nan, nan, ...,  1.,  0.,  1.],\n",
       "       [nan, nan, nan, ...,  1.,  1.,  0.]])"
      ]
     },
     "execution_count": 23,
     "metadata": {},
     "output_type": "execute_result"
    }
   ],
   "source": [
    "G_2001_dists"
   ]
  },
  {
   "cell_type": "code",
   "execution_count": 15,
   "metadata": {},
   "outputs": [
    {
     "data": {
      "text/plain": [
       "array([[ 0.,  1., nan, ..., nan, nan, nan],\n",
       "       [ 1.,  0., nan, ..., nan, nan, nan],\n",
       "       [nan, nan,  0., ..., nan, nan, nan],\n",
       "       ...,\n",
       "       [nan, nan, nan, ...,  0.,  1.,  1.],\n",
       "       [nan, nan, nan, ...,  1.,  0.,  1.],\n",
       "       [nan, nan, nan, ...,  1.,  1.,  0.]])"
      ]
     },
     "execution_count": 15,
     "metadata": {},
     "output_type": "execute_result"
    }
   ],
   "source": [
    "G_2004_dists"
   ]
  },
  {
   "cell_type": "markdown",
   "metadata": {},
   "source": [
    "Для наглядности.\n",
    "\n",
    "Диаметры:"
   ]
  },
  {
   "cell_type": "code",
   "execution_count": 24,
   "metadata": {},
   "outputs": [
    {
     "data": {
      "text/plain": [
       "1.0"
      ]
     },
     "execution_count": 24,
     "metadata": {},
     "output_type": "execute_result"
    }
   ],
   "source": [
    "np.nanmax(G_2001_dists)"
   ]
  },
  {
   "cell_type": "code",
   "execution_count": 25,
   "metadata": {},
   "outputs": [
    {
     "data": {
      "text/plain": [
       "1.0"
      ]
     },
     "execution_count": 25,
     "metadata": {},
     "output_type": "execute_result"
    }
   ],
   "source": [
    "np.nanmax(G_2004_dists)"
   ]
  },
  {
   "cell_type": "markdown",
   "metadata": {},
   "source": [
    "Диаметры получились единичными, и неудивительно, ведь у нас специфические данные - связанные терракты, и я не могу представить, как терракты могут быть связаны \"через 1\"(или больше), ведь если терракты связаны, то связаны все с друг другом, т.е. у нас должен получаться набор небольших несвязных компонент, каждая из которых представляет собою полносвязный граф(в которых диаметры 1).\n",
    "\n",
    "Полезной для нас информации этот критерий не дает(учитывая, что о структуре графов мы уже знали)."
   ]
  },
  {
   "cell_type": "markdown",
   "metadata": {},
   "source": [
    "# Эксцентриситет\n",
    "Эксцентриситет - функция вершины графа, непонятно что имеется в виду под эксцентриситетом графа, посмотрим на эксцентриситетом всех вершин"
   ]
  },
  {
   "cell_type": "code",
   "execution_count": 18,
   "metadata": {},
   "outputs": [
    {
     "data": {
      "text/plain": [
       "array([1., 1., 1., 1., 1., 1., 1., 1., 1., 1., 1., 1., 1., 1., 1., 1., 1.,\n",
       "       1., 1., 1., 1., 1., 1., 1., 1., 1., 1., 1., 1., 1., 1., 1., 1., 1.,\n",
       "       1., 1., 1., 1., 1., 1., 1., 1., 1., 1., 1., 1., 1., 1., 1., 1., 1.,\n",
       "       1., 1., 1., 1., 1., 1., 1., 1., 1., 1., 1., 1., 1., 1., 1., 1., 1.,\n",
       "       1., 1., 1., 1., 1., 1., 1., 1., 1., 1., 1., 1., 1., 1., 1., 1., 1.,\n",
       "       1., 1., 1., 1., 1., 1., 1., 1., 1., 1., 1., 1., 1., 1., 1., 1., 1.,\n",
       "       1., 1., 1., 1., 1., 1., 1., 1., 1., 1., 1., 1., 1., 1., 1., 1., 1.,\n",
       "       1., 1., 1., 1., 1., 1., 1., 1., 1., 1., 1., 1., 1., 1., 1., 1., 1.,\n",
       "       1., 1., 1., 1., 1., 1., 1., 1., 1., 1., 1., 1., 1., 1., 1., 1., 1.,\n",
       "       1., 1., 1., 1., 1., 1., 1., 1., 1., 1., 1., 1., 1., 1., 1., 1., 1.,\n",
       "       1., 1., 1., 1., 1., 1., 1., 1., 1., 1., 1., 1., 1., 1., 1., 1., 1.,\n",
       "       1., 1., 1., 1., 1., 1., 1., 1., 1., 1., 1., 1., 1., 1., 1., 1., 1.,\n",
       "       1., 1., 1., 1., 1., 1., 1., 1., 1., 1., 1., 1., 1., 1., 1., 1., 1.,\n",
       "       1., 1., 1., 1., 1., 1., 1., 1., 1., 1., 1., 1., 1., 1., 1., 1., 1.,\n",
       "       1., 1., 1., 1., 1., 1., 1., 1., 1., 1., 1., 1., 1., 1., 1., 1., 1.,\n",
       "       1., 1., 1., 1., 1., 1., 1., 1., 1., 1., 1., 1., 1., 1., 1., 1.])"
      ]
     },
     "execution_count": 18,
     "metadata": {},
     "output_type": "execute_result"
    }
   ],
   "source": [
    "np.nanmax(G_2001_dists, axis=1)"
   ]
  },
  {
   "cell_type": "code",
   "execution_count": 19,
   "metadata": {},
   "outputs": [
    {
     "data": {
      "text/plain": [
       "array([1., 1., 1., 1., 1., 1., 1., 1., 1., 1., 1., 1., 1., 1., 1., 1., 1.,\n",
       "       1., 1., 1., 1., 1., 1., 1., 1., 1., 1., 1., 1., 1., 1., 1., 1., 1.,\n",
       "       1., 1., 1., 1., 1., 1., 1., 1., 1., 1., 1., 1., 1., 1., 1., 1., 1.,\n",
       "       1., 1., 1., 1., 1., 1., 1., 1., 1., 1., 1., 1., 1., 1., 1., 1., 1.,\n",
       "       1., 1., 1., 1., 1., 1., 1., 1., 1., 1., 1., 1., 1., 1., 1., 1., 1.,\n",
       "       1., 1., 1., 1., 1., 1., 1., 1., 1., 1., 1., 1., 1., 1., 1., 1., 1.,\n",
       "       1., 1., 1., 1., 1., 1., 1., 1., 1., 1., 1., 1., 1., 1., 1., 1., 1.,\n",
       "       1., 1., 1., 1., 1., 1., 1., 1., 1., 1., 1., 1., 1., 1., 1., 1., 1.,\n",
       "       1., 1., 1., 1., 1., 1., 1., 1., 1., 1., 1., 1., 1., 1., 1., 1.])"
      ]
     },
     "execution_count": 19,
     "metadata": {},
     "output_type": "execute_result"
    }
   ],
   "source": [
    "np.nanmax(G_2004_dists, axis=1)"
   ]
  },
  {
   "cell_type": "markdown",
   "metadata": {},
   "source": [
    "Ну да, получили по единичке на каждую вершину, т.к. изолированные вершины мы удалили, а про единички я выше объясняла.\n",
    "\n",
    "Ничего полезного в подсчете данной характеристики нет."
   ]
  },
  {
   "cell_type": "markdown",
   "metadata": {},
   "source": [
    "# Переферийные вершины\n",
    "Из предыдущих наблюдений явно следует, что все вершины являются переферийными, посчитать их можно, если бы наши графы не были устроены так просто, вызвав:"
   ]
  },
  {
   "cell_type": "code",
   "execution_count": 20,
   "metadata": {},
   "outputs": [
    {
     "data": {
      "text/plain": [
       "271"
      ]
     },
     "execution_count": 20,
     "metadata": {},
     "output_type": "execute_result"
    }
   ],
   "source": [
    "(np.nanmax(G_2001_dists, axis=1) == np.nanmax(G_2001_dists)).sum()"
   ]
  },
  {
   "cell_type": "code",
   "execution_count": 21,
   "metadata": {},
   "outputs": [
    {
     "data": {
      "text/plain": [
       "152"
      ]
     },
     "execution_count": 21,
     "metadata": {},
     "output_type": "execute_result"
    }
   ],
   "source": [
    "(np.nanmax(G_2004_dists, axis=1) == np.nanmax(G_2004_dists)).sum()"
   ]
  },
  {
   "cell_type": "markdown",
   "metadata": {},
   "source": [
    "Никакой существенной информации о расстоянии между графами эта метрика не дает, ну кроме того, что в одном в 2 раза больше вершин, чем в другом. По сути, мы изощренным способом посчитали количество вершин графов."
   ]
  },
  {
   "cell_type": "markdown",
   "metadata": {},
   "source": [
    "# Girth\n",
    "\n",
    "По описанию в википедии, это размер наименьшего цикла(т.е. минимум для этого значения - 3). Мы уже знаем, что у нас полные подграфы, т.е. если все компоненты связности пары (пары вершин соединенных одним ребром), то тогда Girth неопределен, т.к. нет циклов, но если есть компонента размера хотя бы 3, то Girth=3, найдем, так ли это:"
   ]
  },
  {
   "cell_type": "code",
   "execution_count": 22,
   "metadata": {},
   "outputs": [
    {
     "name": "stdout",
     "output_type": "stream",
     "text": [
      "Вершина 200101150002 связана с 200101150003, 200101150004, 200101150005; значит girth=3\n"
     ]
    }
   ],
   "source": [
    "for node in G_2001:\n",
    "    neighbours = list(G_2001[node])\n",
    "    if len(neighbours) > 1:\n",
    "        print(\n",
    "            'Вершина {} связана с {}; значит girth=3'.format(\n",
    "                node,\n",
    "                ', '.join(map(str, neighbours)),\n",
    "            )\n",
    "        )\n",
    "        break"
   ]
  },
  {
   "cell_type": "markdown",
   "metadata": {},
   "source": [
    "В общем случае нужно было бы написать DFS, но мы же типо на 4 курсе и вы поверите нам что мы умеем его писать.\n",
    "\n",
    "Т.к. для всех графов из нашего датасета этот параметр будет одинаков, то это абсолютно неинформативно."
   ]
  },
  {
   "cell_type": "markdown",
   "metadata": {},
   "source": [
    "# Wiener index\n",
    "Просто сложим все элементы матрицы расстояний, не забыв, что каждый путь мы учитываем в сумме 2 раза(как i -> j и как j -> i)."
   ]
  },
  {
   "cell_type": "code",
   "execution_count": 26,
   "metadata": {},
   "outputs": [
    {
     "data": {
      "text/plain": [
       "322.0"
      ]
     },
     "execution_count": 26,
     "metadata": {},
     "output_type": "execute_result"
    }
   ],
   "source": [
    "np.nansum(G_2001_dists) / 2"
   ]
  },
  {
   "cell_type": "code",
   "execution_count": 27,
   "metadata": {},
   "outputs": [
    {
     "data": {
      "text/plain": [
       "185.0"
      ]
     },
     "execution_count": 27,
     "metadata": {},
     "output_type": "execute_result"
    }
   ],
   "source": [
    "np.nansum(G_2004_dists) / 2"
   ]
  },
  {
   "cell_type": "markdown",
   "metadata": {},
   "source": [
    "В принципе, передает некоторую важную информацию о структуре графа, можно использовать."
   ]
  },
  {
   "cell_type": "markdown",
   "metadata": {},
   "source": [
    "# Hosoya index"
   ]
  },
  {
   "cell_type": "markdown",
   "metadata": {},
   "source": [
    "Конечно, можно схитрить и просто перемножить Hosoya index для каждой из наших компонент связности, ведь они являются полными подграфами, то значения для них можно посмотреть хоть в табличке, но нужны баллы, воспользуемся реккурентной: $Z(G) = Z(G-e) + Z(G-\\{w,v\\})$\n",
    "\n",
    "И тем фактом, что $Z(G)$ можно посчитать как произведение Z по всем компонентам связности G.\n",
    "\n",
    "http://evlm.stuba.sk/APLIMAT2018/proceedings/Papers/0933_Seibert_Zahradka.pdf"
   ]
  },
  {
   "cell_type": "code",
   "execution_count": 25,
   "metadata": {},
   "outputs": [],
   "source": [
    "def hosoya(G):\n",
    "    copy_wo_e_G = G.copy()\n",
    "    copy_wo_wv_G = G.copy()\n",
    "    if G.number_of_edges() > 0:\n",
    "        edge = list(G.edges)[0]\n",
    "        copy_wo_e_G.remove_edge(*edge)\n",
    "        copy_wo_wv_G.remove_nodes_from(edge)\n",
    "        return hosoya(copy_wo_e_G) + hosoya(copy_wo_wv_G)\n",
    "    return 1"
   ]
  },
  {
   "cell_type": "markdown",
   "metadata": {},
   "source": [
    "Проверим корректность по последовательности из википедии https://en.wikipedia.org/wiki/Hosoya_index\n",
    "\n",
    "Т.е. $hosoya(K_0) = 1, hosoya(K_1) = 1, hosoya(K_2) = 2, hosoya(K_3) = 4, hosoya(K_4) = 10, hosoya(K_5) = 26, \\dots$"
   ]
  },
  {
   "cell_type": "code",
   "execution_count": 26,
   "metadata": {},
   "outputs": [
    {
     "data": {
      "text/plain": [
       "[(0, {200101070004, 200101070009}),\n",
       " (1, {200101130003, 200101140001}),\n",
       " (2, {200101150002, 200101150003, 200101150004, 200101150005}),\n",
       " (3, {200101160003, 200101160004, 200101160005}),\n",
       " (4, {200101190002, 200101190003, 200101190004, 200101190005}),\n",
       " (5, {200101190006, 200101190008, 200101190009, 200101190010}),\n",
       " (6, {200101240002, 200101240003}),\n",
       " (7, {200101280004, 200101280005, 200101280006}),\n",
       " (8, {200101300004, 200101300005}),\n",
       " (9, {200102000001, 200102120002}),\n",
       " (10, {200102010001, 200102010005, 200102010006}),\n",
       " (11, {200102070005, 200102070010}),\n",
       " (12, {200102140001, 200102170001}),\n",
       " (13, {200102210003, 200102210004}),\n",
       " (14, {200103020009, 200103020011}),\n",
       " (15, {200103080001, 200103080002, 200103080005}),\n",
       " (16, {200103090001, 200103090010}),\n",
       " (17, {200103090005, 200103090006}),\n",
       " (18, {200103240003, 200103240004, 200103240005}),\n",
       " (19, {200103250004, 200103250008}),\n",
       " (20, {200104140005, 200104140008}),\n",
       " (21, {200104230005, 200104230009}),\n",
       " (22, {200105210006, 200105210007}),\n",
       " (23, {200105240001, 200105240002}),\n",
       " (24, {200105280003, 200105280004}),\n",
       " (25, {200105290005, 200105290006}),\n",
       " (26, {200106150001, 200106150002}),\n",
       " (27, {200106260001, 200106270001, 200106280002}),\n",
       " (28, {200107040002, 200107040004}),\n",
       " (29, {200107070004, 200107070007, 200107070008}),\n",
       " (30, {200107230003, 200107230005, 200107230006, 200107230007, 200107230008}),\n",
       " (31, {200107270004, 200107270005}),\n",
       " (32, {200108040001, 200108040002}),\n",
       " (33, {200108050002, 200108050003, 200108050004, 200108050005}),\n",
       " (34, {200108050018, 200108050019, 200108050020}),\n",
       " (35, {200108060006, 200108060007, 200108060008}),\n",
       " (36, {200108070002, 200108070004}),\n",
       " (37, {200108080002, 200108080006}),\n",
       " (38, {200108090011, 200108090012}),\n",
       " (39, {200108100001, 200108100002}),\n",
       " (40, {200108100008, 200108100009}),\n",
       " (41, {200108100011, 200108100012}),\n",
       " (42, {200108110001, 200108110002}),\n",
       " (43, {200108110005, 200108120012}),\n",
       " (44, {200108110009, 200108120017}),\n",
       " (45, {200108120004, 200108120005, 200108120006}),\n",
       " (46, {200108130004, 200108130014, 200108130015, 200108130016}),\n",
       " (47, {200108130010, 200108130011}),\n",
       " (48, {200108140002, 200108140027, 200108150008}),\n",
       " (49, {200108140016, 200108140017, 200108140018, 200108140025, 200108140026}),\n",
       " (50, {200108140019, 200108150002}),\n",
       " (51, {200108140023, 200108140024}),\n",
       " (52, {200108150014, 200108150015}),\n",
       " (53,\n",
       "  {200108160006,\n",
       "   200108160007,\n",
       "   200108160008,\n",
       "   200108160009,\n",
       "   200108160010,\n",
       "   200108160011,\n",
       "   200108160012}),\n",
       " (54, {200108160019, 200108160020}),\n",
       " (55, {200108170007, 200108170008}),\n",
       " (56, {200108170010, 200108170011, 200108170014}),\n",
       " (57, {200108180001, 200108180002}),\n",
       " (58, {200108200005, 200108200016}),\n",
       " (59, {200108210011, 200108210012, 200108210013}),\n",
       " (60, {200108220001, 200108220003, 200108220004}),\n",
       " (61, {200108220002, 200108220005}),\n",
       " (62,\n",
       "  {200108230001,\n",
       "   200108230002,\n",
       "   200108230003,\n",
       "   200108230004,\n",
       "   200108230005,\n",
       "   200108230006,\n",
       "   200108230007,\n",
       "   200108230008,\n",
       "   200108230009}),\n",
       " (63, {200108230023, 200108230024}),\n",
       " (64, {200108240002, 200108240003}),\n",
       " (65, {200108240005, 200108240006, 200108240007}),\n",
       " (66, {200108240008, 200108240009}),\n",
       " (67, {200108240010, 200108240011}),\n",
       " (68, {200108250020, 200108260017}),\n",
       " (69, {200108260008, 200108260009}),\n",
       " (70, {200108260014, 200108260015, 200108260016}),\n",
       " (71, {200108260019, 200108260020, 200108260023}),\n",
       " (72, {200108260026, 200108270017, 200108270018, 200108270019}),\n",
       " (73, {200108270008, 200108270010}),\n",
       " (74, {200108270015, 200108270016}),\n",
       " (75, {200108290011, 200108290012, 200108290013}),\n",
       " (76, {200109010001, 200109010002, 200109010004}),\n",
       " (77, {200109030005, 200109030007, 200109030008, 200109030009}),\n",
       " (78, {200109110004, 200109110005, 200109110006, 200109110007}),\n",
       " (79,\n",
       "  {200110020003,\n",
       "   200110090004,\n",
       "   200110120004,\n",
       "   200110150001,\n",
       "   200110150002,\n",
       "   200110180004,\n",
       "   200110260004,\n",
       "   200110290003}),\n",
       " (80, {200110080001, 200110080002, 200110080003}),\n",
       " (81, {200110110003, 200110110008, 200110110009}),\n",
       " (82, {200110110007, 200111100005, 200111100008}),\n",
       " (83, {200110160001, 200110160002}),\n",
       " (84, {200111010003, 200111010004, 200111010005}),\n",
       " (85, {200111050005, 200111050006}),\n",
       " (86, {200111110008, 200111110009}),\n",
       " (87, {200111140002, 200111140003}),\n",
       " (88, {200111220004, 200111240008}),\n",
       " (89, {200111290004, 200111290005, 200111290006}),\n",
       " (90,\n",
       "  {200111290010,\n",
       "   200111290011,\n",
       "   200111290012,\n",
       "   200111290013,\n",
       "   200111290014,\n",
       "   200112030003}),\n",
       " (91, {200112010004, 200112010005}),\n",
       " (92, {200112090001, 200112090002}),\n",
       " (93, {200112120001, 200112120002}),\n",
       " (94, {200112120003, 200112120004}),\n",
       " (95,\n",
       "  {200112140001,\n",
       "   200112140002,\n",
       "   200112140003,\n",
       "   200112140004,\n",
       "   200112140005,\n",
       "   200112140006}),\n",
       " (96, {200112170003, 200112170004}),\n",
       " (97, {200112240004, 200112240005, 200112240006, 200112240007, 200112240008})]"
      ]
     },
     "execution_count": 26,
     "metadata": {},
     "output_type": "execute_result"
    }
   ],
   "source": [
    "temp = list(enumerate(nx.connected_components(G_2001)))\n",
    "temp"
   ]
  },
  {
   "cell_type": "markdown",
   "metadata": {},
   "source": [
    "Второй сабсет иммет размер 4"
   ]
  },
  {
   "cell_type": "code",
   "execution_count": 27,
   "metadata": {},
   "outputs": [
    {
     "name": "stdout",
     "output_type": "stream",
     "text": [
      "(2, {200101150002, 200101150003, 200101150004, 200101150005})\n"
     ]
    },
    {
     "data": {
      "text/plain": [
       "10"
      ]
     },
     "execution_count": 27,
     "metadata": {},
     "output_type": "execute_result"
    }
   ],
   "source": [
    "print(temp[2])\n",
    "hosoya(G_2001.subgraph(list(nx.connected_components(G_2001))[2]))"
   ]
  },
  {
   "cell_type": "markdown",
   "metadata": {},
   "source": [
    "30-ый размера 5"
   ]
  },
  {
   "cell_type": "code",
   "execution_count": 28,
   "metadata": {},
   "outputs": [
    {
     "name": "stdout",
     "output_type": "stream",
     "text": [
      "(30, {200107230003, 200107230005, 200107230006, 200107230007, 200107230008})\n"
     ]
    },
    {
     "data": {
      "text/plain": [
       "26"
      ]
     },
     "execution_count": 28,
     "metadata": {},
     "output_type": "execute_result"
    }
   ],
   "source": [
    "print(temp[30])\n",
    "hosoya(G_2001.subgraph(list(nx.connected_components(G_2001))[30]))"
   ]
  },
  {
   "cell_type": "markdown",
   "metadata": {},
   "source": [
    "Теперь наша функция:"
   ]
  },
  {
   "cell_type": "code",
   "execution_count": 29,
   "metadata": {},
   "outputs": [],
   "source": [
    "def count_hosoya_for_subgraphs(G):\n",
    "    results = [hosoya(G.subgraph(cc)) for cc in nx.connected_components(G)]\n",
    "    return results"
   ]
  },
  {
   "cell_type": "code",
   "execution_count": 30,
   "metadata": {},
   "outputs": [
    {
     "name": "stdout",
     "output_type": "stream",
     "text": [
      "[2, 2, 10, 4, 10, 10, 2, 4, 2, 2, 4, 2, 2, 2, 2, 4, 2, 2, 4, 2, 2, 2, 2, 2, 2, 2, 2, 4, 2, 4, 26, 2, 2, 10, 4, 4, 2, 2, 2, 2, 2, 2, 2, 2, 2, 4, 10, 2, 4, 26, 2, 2, 2, 232, 2, 2, 4, 2, 2, 4, 4, 2, 2620, 2, 2, 4, 2, 2, 2, 2, 4, 4, 10, 2, 2, 4, 4, 10, 10, 764, 4, 3, 4, 2, 4, 2, 2, 2, 2, 4, 76, 2, 2, 2, 2, 76, 2, 26]\n"
     ]
    }
   ],
   "source": [
    "print(count_hosoya_for_subgraphs(G_2001))"
   ]
  },
  {
   "cell_type": "markdown",
   "metadata": {},
   "source": [
    "Снова убеждаемся, что получающиеся числа из последовательности с википедии. Финальная функция:"
   ]
  },
  {
   "cell_type": "code",
   "execution_count": 31,
   "metadata": {},
   "outputs": [
    {
     "data": {
      "text/plain": [
       "286860444500050491486623841544050172691006619648000000000"
      ]
     },
     "execution_count": 31,
     "metadata": {},
     "output_type": "execute_result"
    }
   ],
   "source": [
    "Z = lambda G: functools.reduce(lambda x, y : x*y, count_hosoya_for_subgraphs(G))\n",
    "Z(G_2001)"
   ]
  },
  {
   "cell_type": "code",
   "execution_count": 32,
   "metadata": {},
   "outputs": [
    {
     "data": {
      "text/plain": [
       "110894011367245689096746565632000"
      ]
     },
     "execution_count": 32,
     "metadata": {},
     "output_type": "execute_result"
    }
   ],
   "source": [
    "Z(G_2004)"
   ]
  },
  {
   "cell_type": "markdown",
   "metadata": {},
   "source": [
    "Выглядит очень неинформативно."
   ]
  },
  {
   "cell_type": "markdown",
   "metadata": {},
   "source": [
    "## Ядро\n",
    "\n",
    "Структура ядра, когда мы уже все знаем о наших данных, становится понятной - это по одной вершине из каждой компоненты связности: такое множество будет независимым, причем максимального размера, т.к. из каждой компоненты связности в независимое множество мы можем взять по одной вершине, и не больше, т.к. компоненты - полносвязные графы; это максимальное независимое множество будет также являться доминирующим, т.к. каждая вершина попадает в какую-то из компонент связности, а в каждой компоненте есть вершина, попавшая в независимое множество, а компоненты полносвязны. Если мы возмем по одной вершине из каждой компоненты связности, никакой новой информации о схожести графов мы не получим.\n",
    "\n",
    "Чтобы решить в общем случае, можно написать линеную программу для задачи целочислного программирования.\n",
    "\n",
    "Воспользуемся сведением, описанным по ссылке https://studopedia.ru/9_101478_vneshne-ustoychivie-mnozhestva-vershin-grafa.html\n",
    "\n",
    "С вашим cvxpy у меня как-о не сложилось, поэтому будем использовать ortools."
   ]
  },
  {
   "cell_type": "code",
   "execution_count": 33,
   "metadata": {},
   "outputs": [],
   "source": [
    "from ortools.linear_solver import pywraplp"
   ]
  },
  {
   "cell_type": "code",
   "execution_count": 34,
   "metadata": {},
   "outputs": [],
   "source": [
    "def find_graph_kernel(G):\n",
    "    order = list(G.nodes())\n",
    "    n_nodes = len(order)\n",
    "    G_np = nx.convert_matrix.to_numpy_array(G, order) + np.diag(np.ones(len(order)))\n",
    "    \n",
    "    solver = pywraplp.Solver('find_kernel', pywraplp.Solver.BOP_INTEGER_PROGRAMMING)\n",
    "    objective = solver.Objective()\n",
    "    \n",
    "    bool_vars = []\n",
    "    for node in order:\n",
    "        bool_vars.append(solver.BoolVar(str(node)))\n",
    "        objective.SetCoefficient(bool_vars[-1], 1)\n",
    "    \n",
    "    for i in range(n_nodes):\n",
    "        solver.Add(solver.Sum([bool_vars[j] for j in range(n_nodes) if G_np[i][j] == 1]) >= 1)\n",
    "    \n",
    "    objective.SetMinimization()\n",
    "    solver.Solve()\n",
    "\n",
    "    graph_kernel = []\n",
    "    for node in bool_vars:\n",
    "        if node.solution_value() == 1:\n",
    "            graph_kernel.append(node.name())\n",
    "     \n",
    "    return graph_kernel"
   ]
  },
  {
   "cell_type": "code",
   "execution_count": 35,
   "metadata": {},
   "outputs": [
    {
     "name": "stdout",
     "output_type": "stream",
     "text": [
      "['200101070009', '200101140001', '200101150004', '200101160005', '200101190004', '200101190009', '200101240003', '200101280006', '200101300005', '200102010006', '200102070010', '200102120002', '200102170001', '200102210004', '200103020011', '200103080005', '200103090006', '200103090010', '200103240005', '200103250008', '200104140008', '200104230009', '200105210007', '200105240002', '200105280004', '200105290006', '200106150002', '200106280002', '200107040004', '200107070008', '200107230005', '200107270005', '200108040002', '200108050004', '200108050020', '200108060008', '200108070004', '200108080006', '200108090012', '200108100002', '200108100009', '200108100012', '200108110002', '200108120006', '200108120012', '200108120017', '200108130011', '200108130015', '200108140017', '200108140024', '200108150002', '200108150008', '200108150015', '200108160007', '200108160020', '200108170008', '200108170014', '200108180002', '200108200016', '200108210013', '200108220004', '200108220005', '200108230002', '200108230024', '200108240003', '200108240007', '200108240009', '200108240011', '200108260009', '200108260016', '200108260017', '200108260023', '200108270010', '200108270016', '200108270018', '200108290013', '200109010004', '200109030008', '200109110006', '200110080003', '200110090004', '200110110003', '200110160002', '200111010005', '200111050006', '200111100008', '200111110009', '200111140003', '200111240008', '200111290006', '200111290011', '200112010005', '200112090002', '200112120002', '200112120004', '200112140002', '200112170004', '200112240005']\n"
     ]
    }
   ],
   "source": [
    "G_2001_kernel = find_graph_kernel(G_2001)\n",
    "print(G_2001_kernel)"
   ]
  },
  {
   "cell_type": "code",
   "execution_count": 36,
   "metadata": {},
   "outputs": [
    {
     "name": "stdout",
     "output_type": "stream",
     "text": [
      "98\n"
     ]
    }
   ],
   "source": [
    "print(len(G_2001_kernel))"
   ]
  },
  {
   "cell_type": "markdown",
   "metadata": {},
   "source": [
    "Подтверждение гипотезы, что нужно взять по вершине из связной компоненты:"
   ]
  },
  {
   "cell_type": "code",
   "execution_count": 37,
   "metadata": {},
   "outputs": [
    {
     "data": {
      "text/plain": [
       "98"
      ]
     },
     "execution_count": 37,
     "metadata": {},
     "output_type": "execute_result"
    }
   ],
   "source": [
    "len(list(nx.connected_components(G_2001)))"
   ]
  },
  {
   "cell_type": "code",
   "execution_count": 38,
   "metadata": {},
   "outputs": [
    {
     "name": "stdout",
     "output_type": "stream",
     "text": [
      "['200402010009', '200402110004', '200402160009', '200402170002', '200403010002', '200403020003', '200403110003', '200403180004', '200404090003', '200404190004', '200404200004', '200405170002', '200405200002', '200406150006', '200406160012', '200406170002', '200406240004', '200406260003', '200407030004', '200407110006', '200407300003', '200407310008', '200408010002', '200408020004', '200408070002', '200408090003', '200408120002', '200408240002', '200408240004', '200408250005', '200408260010', '200408280006', '200408300002', '200409100006', '200409120006', '200409250002', '200409280006', '200410030001', '200410040004', '200410070004', '200410100004', '200410160006', '200410250008', '200410310003', '200411050002', '200411060002', '200411070004', '200411080004', '200411090003', '200411150002', '200411250003', '200412030002', '200412060004', '200412090002', '200412100009']\n"
     ]
    }
   ],
   "source": [
    "G_2004_kernel = find_graph_kernel(G_2004)\n",
    "print(G_2004_kernel)"
   ]
  },
  {
   "cell_type": "code",
   "execution_count": 39,
   "metadata": {},
   "outputs": [
    {
     "name": "stdout",
     "output_type": "stream",
     "text": [
      "55\n"
     ]
    }
   ],
   "source": [
    "print(len(G_2004_kernel))"
   ]
  },
  {
   "cell_type": "markdown",
   "metadata": {},
   "source": [
    "Класс, посчитали число связных компонент! В прицнипе метрика не бесполезная - вроде как число не связных между собой групп террактов достаточно полезная информация."
   ]
  },
  {
   "cell_type": "markdown",
   "metadata": {},
   "source": [
    "# Своя метрика\n",
    "\n",
    "Графы такой структуры (много маленьких полносвязных графов) можно закодировать в вектор, в каждой компоненте которого - размер связной компоненты, такой вектор хранит абсолютно всю структуру о графе(учитывая то, что мы знаем, как они устроены), и на таких векторах можно считать расстояния, например, сумму квадратов разности компонент, предварительно отсортировав компоненты и добив нулями до одинаковой длины. Такая метрика будет сильно скакать, если компоненты связности сильно отличаются по размеру, будет учитывать разность длин."
   ]
  },
  {
   "cell_type": "code",
   "execution_count": 40,
   "metadata": {},
   "outputs": [],
   "source": [
    "def my_vec(G):\n",
    "    return np.array([len(cc) for cc in nx.connected_components(G)])"
   ]
  },
  {
   "cell_type": "code",
   "execution_count": 41,
   "metadata": {},
   "outputs": [
    {
     "data": {
      "text/plain": [
       "array([2, 2, 4, 3, 4, 4, 2, 3, 2, 2, 3, 2, 2, 2, 2, 3, 2, 2, 3, 2, 2, 2,\n",
       "       2, 2, 2, 2, 2, 3, 2, 3, 5, 2, 2, 4, 3, 3, 2, 2, 2, 2, 2, 2, 2, 2,\n",
       "       2, 3, 4, 2, 3, 5, 2, 2, 2, 7, 2, 2, 3, 2, 2, 3, 3, 2, 9, 2, 2, 3,\n",
       "       2, 2, 2, 2, 3, 3, 4, 2, 2, 3, 3, 4, 4, 8, 3, 3, 3, 2, 3, 2, 2, 2,\n",
       "       2, 3, 6, 2, 2, 2, 2, 6, 2, 5])"
      ]
     },
     "execution_count": 41,
     "metadata": {},
     "output_type": "execute_result"
    }
   ],
   "source": [
    "my_vec(G_2001)"
   ]
  },
  {
   "cell_type": "code",
   "execution_count": 42,
   "metadata": {},
   "outputs": [],
   "source": [
    "def my_metric(G_1, G_2):\n",
    "    v1 = sorted(my_vec(G_1), reverse=True) # type: list\n",
    "    v2 = sorted(my_vec(G_2), reverse=True)\n",
    "    max_len = max(len(v1), len(v2))\n",
    "    v1_np = np.zeros(max_len)\n",
    "    v2_np = np.zeros(max_len)\n",
    "    v1_np[:len(v1)] = v1\n",
    "    v2_np[:len(v2)] = v2\n",
    "    return np.sum((v1_np - v2_np) ** 2)"
   ]
  },
  {
   "cell_type": "code",
   "execution_count": 43,
   "metadata": {},
   "outputs": [
    {
     "data": {
      "text/plain": [
       "205.0"
      ]
     },
     "execution_count": 43,
     "metadata": {},
     "output_type": "execute_result"
    }
   ],
   "source": [
    "my_metric(G_2001, G_2004)"
   ]
  },
  {
   "cell_type": "markdown",
   "metadata": {},
   "source": [
    "отнормируем"
   ]
  },
  {
   "cell_type": "code",
   "execution_count": 44,
   "metadata": {},
   "outputs": [],
   "source": [
    "def my_normed_metric(G_1, G_2):\n",
    "    v1 = sorted(my_vec(G_1), reverse=True) # type: list\n",
    "    v2 = sorted(my_vec(G_2), reverse=True)\n",
    "    max_len = max(len(v1), len(v2))\n",
    "    v1_np = np.zeros(max_len)\n",
    "    v2_np = np.zeros(max_len)\n",
    "    v1_np[:len(v1)] = v1\n",
    "    v2_np[:len(v2)] = v2\n",
    "    return np.sum((v1_np - v2_np) ** 2) / np.sqrt(np.sum(v1_np ** 2)) / np.sqrt(np.sum(v2_np ** 2))"
   ]
  },
  {
   "cell_type": "code",
   "execution_count": 45,
   "metadata": {},
   "outputs": [
    {
     "data": {
      "text/plain": [
       "0.2963015625337177"
      ]
     },
     "execution_count": 45,
     "metadata": {},
     "output_type": "execute_result"
    }
   ],
   "source": [
    "my_normed_metric(G_2001, G_2004)"
   ]
  },
  {
   "cell_type": "markdown",
   "metadata": {},
   "source": [
    "Очень близко к самому полезного из увиденного - нормированному редакционному расстоянию."
   ]
  }
 ],
 "metadata": {
  "kernelspec": {
   "display_name": "Python 3",
   "language": "python",
   "name": "python3"
  },
  "language_info": {
   "codemirror_mode": {
    "name": "ipython",
    "version": 3
   },
   "file_extension": ".py",
   "mimetype": "text/x-python",
   "name": "python",
   "nbconvert_exporter": "python",
   "pygments_lexer": "ipython3",
   "version": "3.6.5"
  }
 },
 "nbformat": 4,
 "nbformat_minor": 2
}
